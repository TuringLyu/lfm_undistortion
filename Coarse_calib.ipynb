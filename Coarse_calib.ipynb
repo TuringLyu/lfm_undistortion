{
 "cells": [
  {
   "cell_type": "code",
   "execution_count": 1,
   "metadata": {},
   "outputs": [],
   "source": [
    "import numpy as np\n",
    "import tifffile\n",
    "from scipy.optimize import least_squares\n",
    "import matplotlib.pyplot as plt\n",
    "import cv2\n",
    "from scipy.interpolate import RegularGridInterpolator\n",
    "import pickle"
   ]
  },
  {
   "cell_type": "code",
   "execution_count": 2,
   "metadata": {},
   "outputs": [
    {
     "data": {
      "text/plain": [
       "(10748, 14304)"
      ]
     },
     "execution_count": 2,
     "metadata": {},
     "output_type": "execute_result"
    }
   ],
   "source": [
    "image = tifffile.imread(r\"Z:\\2_Data\\LWJ\\RUSH3D\\Data\\White\\20240603\\White_Step1965_Size2415_20X_C2\\capture\\C2\\White_Step1965_Size2415_20X_S1_C2_2.tiff\")\n",
    "image.shape\n",
    "# image = image[0]"
   ]
  },
  {
   "cell_type": "code",
   "execution_count": 9,
   "metadata": {},
   "outputs": [
    {
     "data": {
      "text/plain": [
       "(10748, 14304, 7151, 5373)"
      ]
     },
     "execution_count": 9,
     "metadata": {},
     "output_type": "execute_result"
    }
   ],
   "source": [
    "H,W=image.shape\n",
    "centerX = W//2-1\n",
    "centerY = H//2-1\n",
    "H,W,centerX,centerY"
   ]
  },
  {
   "cell_type": "code",
   "execution_count": 14,
   "metadata": {},
   "outputs": [
    {
     "data": {
      "text/plain": [
       "<matplotlib.image.AxesImage at 0x20a5d22a0a0>"
      ]
     },
     "execution_count": 14,
     "metadata": {},
     "output_type": "execute_result"
    },
    {
     "data": {
      "image/png": "[encoded data removed]",
      "text/plain": [
       "<Figure size 1200x500 with 2 Axes>"
      ]
     },
     "metadata": {},
     "output_type": "display_data"
    }
   ],
   "source": [
    "center=image[centerY-7:centerY+8,centerX-7:centerX+8]\n",
    "center15=image[centerY:centerY+15,centerX:centerX+15]\n",
    "fig,ax=plt.subplots(ncols=2,figsize=(12,5))\n",
    "ax[0].imshow(center)\n",
    "ax[1].imshow(center15)"
   ]
  },
  {
   "cell_type": "code",
   "execution_count": 15,
   "metadata": {},
   "outputs": [],
   "source": [
    "gt=np.zeros_like(image)\n",
    "\n",
    "for i in range(centerY%15,gt.shape[0],15):\n",
    "    for j in range(centerX%15,gt.shape[1],15):\n",
    "        center_coordinates = j,i\n",
    "        radius = 6\n",
    "        color = 10000\n",
    "        thickness = cv2.FILLED\n",
    "        cv2.circle(gt, center_coordinates, radius, color, thickness)\n",
    "tifffile.imwrite(\"./gt.tif\",gt.astype(np.uint16))"
   ]
  },
  {
   "cell_type": "code",
   "execution_count": 16,
   "metadata": {},
   "outputs": [
    {
     "data": {
      "text/plain": [
       "<matplotlib.image.AxesImage at 0x20a5f5f6c70>"
      ]
     },
     "execution_count": 16,
     "metadata": {},
     "output_type": "execute_result"
    },
    {
     "data": {
      "image/png": "[encoded data removed]",
      "text/plain": [
       "<Figure size 1200x500 with 2 Axes>"
      ]
     },
     "metadata": {},
     "output_type": "display_data"
    }
   ],
   "source": [
    "fig,ax=plt.subplots(ncols=2,figsize=(12,5))\n",
    "ax[0].imshow(center)\n",
    "ax[1].imshow(gt[centerY-7:centerY+8,centerX-7:centerX+8])"
   ]
  },
  {
   "cell_type": "code",
   "execution_count": 3,
   "metadata": {},
   "outputs": [],
   "source": [
    "# The distort_model function applies distortion to a set of x and y coordinates based on the provided distortion parameters.\n",
    "def distort_model(params, x,y):\n",
    "    fx,fy,cx,cy,k1, k2, k3, p1, p2 = params\n",
    "    matrix=np.array([[fx,0,cx],[0,fy,cy],[0,0,1]])\n",
    "    objpoints=np.concatenate((x[:,np.newaxis],y[:,np.newaxis],np.ones_like(y[:,np.newaxis])),axis=1)\n",
    "    objpoints_rotated=np.matmul(objpoints, matrix)\n",
    "    objpoints_projected = objpoints_rotated[:, :2] / (objpoints_rotated[:, 2:] + 1e-17)\n",
    "    shift=objpoints_projected-np.array([cx,cy])\n",
    "\n",
    "    x_shifted = shift[:,0]\n",
    "    y_shifted = shift[:,1]\n",
    "    r2 = x_shifted**2 + y_shifted**2\n",
    "    x_distorted = x_shifted * (1 + k1*r2 + k2*r2**2 + k3*r2**3) + 2*p1*x_shifted*y_shifted + p2*(r2 + 2*x_shifted**2) + cx\n",
    "    y_distorted = y_shifted * (1 + k1*r2 + k2*r2**2 + k3*r2**3) + p1*(r2 + 2*y_shifted**2) + 2*p2*x_shifted*y_shifted + cy\n",
    "    return x_distorted, y_distorted\n",
    "\n",
    "\n",
    "# The error_function calculates the difference between the predicted and actual values of x and y.\n",
    "def error_function(params, x, y, mapx, mapy):\n",
    "    x_predicted, y_predicted = distort_model(params, x, y)\n",
    "    return np.concatenate((x_predicted - mapx, y_predicted - mapy))\n",
    "\n",
    "# The generate_params function generates distortion and undistortion parameters using a least squares optimization process.\n",
    "def generate_params(x_distorted, y_distorted, x_ideal, y_ideal):\n",
    "    params_initial = [0, 0, 0, 0, 0, 0, 0, 0, 0]\n",
    "\n",
    "    result_undist = least_squares(error_function, params_initial, args=(x_distorted, y_distorted, x_ideal, y_ideal,))\n",
    "    result_dist = least_squares(error_function, params_initial, args=( x_ideal, y_ideal,x_distorted, y_distorted,))\n",
    "\n",
    "    return {\"undistort\":result_undist.x,\"inv_undistort\":result_dist.x}"
   ]
  },
  {
   "cell_type": "code",
   "execution_count": 40,
   "metadata": {},
   "outputs": [],
   "source": [
    "# Initial distortion model according to the point pairs\n",
    "# 20240429\n",
    "# gt_coor=np.array([[1249,971],[1249,5096],[1249,9206],[1249,13331],[5374,971],[5374,5096],[5374,9206],[5374,13331],[9499,971],[9499,5096],[9499,9206],[9499,13331]])\n",
    "# dist_coor=np.array([[1253,975.5],[1242,5092.5],[1242,9209.5],[1250,13329.5],[5375,968],[5374,5092],[5374,9211],[5373,13337],[9494,978],[9505,5094],[9505,9210],[9494,13327.5]])\n",
    "# 20240513\n",
    "# gt_coor=np.array([[1368,1152],[1368,5157],[1368,9147],[1368,13152],[5373,1152],[5372,5157],[5373,9147],[5373,13152],[9378,1152],[9378,5157],[9378,9147],[9378,13152]])\n",
    "# dist_coor=np.array([[1369,1153],[1361,5153],[1361,9149],[1368,13149],[5373,1146],[5373,5152],[5373,9151],[5372,13157],[9376,1154],[9384,5154],[9384,9150],[9374,13148]])\n",
    "# 20240522\n",
    "# gt_coor=np.array([[1368,1152],[1368,5157],[1368,9147],[1368,13152],[5373,1152],[5372,5157],[5373,9147],[5373,13152],[9378,1152],[9378,5157],[9378,9147],[9378,13152]])\n",
    "# dist_coor=np.array([[1370,1152.5],[1361,5153.5],[1361,9149],[1368,13149],[5374,1146],[5373,5152],[5373,9151],[5372.5,13157],[9377,1155],[9384,5154],[9384,9150],[9373,13150]])\n",
    "# 20240604\n",
    "gt_coor=np.array([[1368,1152],[1368,5157],[1368,9147],[1368,13152],[5373,1152],[5372,5157],[5373,9147],[5373,13152],[9378,1152],[9378,5157],[9378,9147],[9378,13152]])\n",
    "dist_coor=np.array([[1369.5,1155],[1361,5152.5],[1361,9149.5],[1368,13152],[5373,1146],[5373,5152],[5372.5,9151],[5372,13157],[9375.5,1156],[9384,5153.5],[9384,9150],[9375,13150]])\n",
    "\n",
    "x_ideal = (gt_coor[:,1]-centerX)/100\n",
    "y_ideal = (gt_coor[:,0]-centerY)/100\n",
    "\n",
    "x_distorted = (dist_coor[:,1]-centerX)/100\n",
    "y_distorted = (dist_coor[:,0]-centerY)/100\n",
    "\n",
    "params_new=generate_params(x_distorted,y_distorted,x_ideal,y_ideal)"
   ]
  },
  {
   "cell_type": "code",
   "execution_count": 26,
   "metadata": {},
   "outputs": [],
   "source": [
    "# 反向过程（畸变过程）：规则的去畸变图像坐标(grid)-> 畸变后对应的不规则坐标值（float）\n",
    "def undistort_coor(params):\n",
    "    H, W = (10748,14304)\n",
    "    gty,gtx = np.mgrid[:H, :W]\n",
    "    gtxy = np.c_[gtx.ravel(), gty.ravel()]\n",
    "    x_undistorted, y_undistorted = distort_model(params['inv_undistort'],(gtxy[:,0]-W//2)/100,(gtxy[:,1]-H//2)/100)\n",
    "    x_undistorted=x_undistorted*100+W//2\n",
    "    y_undistorted=y_undistorted*100+H//2\n",
    "    return x_undistorted,y_undistorted\n",
    "\n",
    "# 使用插值方法找到上述不规则坐标对应的像素值\n",
    "def single_interpolate(image,x_undistorted,y_undistorted):\n",
    "    centerB =image.copy()\n",
    "    # desX=14000\n",
    "    # desY=10000\n",
    "    # sideX = (sx-desX)//2\n",
    "    # sideY = (sy-desY)//2\n",
    "    y = np.linspace(0, centerB.shape[0]-1, centerB.shape[0])\n",
    "    x = np.linspace(0, centerB.shape[1]-1, centerB.shape[1])\n",
    "\n",
    "    Ti = RegularGridInterpolator((y, x), centerB, method=\"linear\", fill_value = 0)\n",
    "    aa = Ti(np.stack([np.clip(y_undistorted,0,centerB.shape[0]-1), np.clip(x_undistorted,0,centerB.shape[1]-1)]).T)\n",
    "    bb = aa.reshape(centerB.shape)\n",
    "    return bb.astype(np.uint16)\n"
   ]
  },
  {
   "cell_type": "code",
   "execution_count": 41,
   "metadata": {},
   "outputs": [],
   "source": [
    "# with open(\"./undistort_params_dict_points_240529.pkl\",'rb') as file:\n",
    "#     params_new=pickle.load(file)\n",
    "# 反向过程（畸变过程）：规则的去畸变图像坐标(grid)-> 畸变后对应的不规则坐标值（float）\n",
    "x_undistorted,y_undistorted = undistort_coor(params_new) \n",
    "# 使用插值方法找到上述不规则坐标对应的像素值\n",
    "image_undistort = single_interpolate(image,x_undistorted,y_undistorted)\n",
    "tifffile.imwrite(\"image_undistort.tif\",image_undistort.astype(np.uint16)) "
   ]
  },
  {
   "cell_type": "code",
   "execution_count": null,
   "metadata": {},
   "outputs": [],
   "source": [
    "crop_H, crop_W = 10005, 14025\n",
    "image_undistort_crop = image_undistort[centerY-crop_H//2:centerY+crop_H//2+1,centerX-crop_W//2:centerX+crop_W//2+1]\n",
    "wigner = image_undistort_crop.reshape(667,15,935,15).transpose(1,3,0,2).reshape(225,667,935)\n",
    "tifffile.imwrite(\"wigner.tif\",wigner.astype(np.uint16)) "
   ]
  },
  {
   "cell_type": "code",
   "execution_count": 42,
   "metadata": {},
   "outputs": [],
   "source": [
    "from datetime import datetime\n",
    "with open(\"undistort_params_dict_points_\"+datetime.now().strftime(\"%y%m%d\")+\".pkl\",'wb') as f:\n",
    "    pickle.dump(params_new,f)"
   ]
  }
 ],
 "metadata": {
  "kernelspec": {
   "display_name": "pytorch",
   "language": "python",
   "name": "python3"
  },
  "language_info": {
   "codemirror_mode": {
    "name": "ipython",
    "version": 3
   },
   "file_extension": ".py",
   "mimetype": "text/x-python",
   "name": "python",
   "nbconvert_exporter": "python",
   "pygments_lexer": "ipython3",
   "version": "3.9.18"
  }
 },
 "nbformat": 4,
 "nbformat_minor": 2
}
